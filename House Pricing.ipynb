{
 "cells": [
  {
   "cell_type": "code",
   "execution_count": 1,
   "id": "53b8dfbc-b96d-4ca2-bb11-bbf9a48fb4a8",
   "metadata": {},
   "outputs": [],
   "source": [
    "import numpy as np\n",
    "import pandas as pd\n",
    "import matplotlib.pyplot as plt\n",
    "import seaborn as sns\n",
    "\n",
    "from sklearn.model_selection import train_test_split, GridSearchCV\n",
    "\n",
    "from sklearn.preprocessing import OneHotEncoder, StandardScaler, PolynomialFeatures\n",
    "\n",
    "from sklearn.linear_model import LinearRegression, Lasso, Ridge\n",
    "from sklearn.metrics import r2_score, mean_squared_error, mean_absolute_error\n",
    "from math import sqrt\n",
    "\n",
    "from sklearn.ensemble import RandomForestRegressor"
   ]
  },
  {
   "cell_type": "markdown",
   "id": "7c2f98e6-b28a-4965-b608-eed25f91f703",
   "metadata": {},
   "source": [
    "### Data Collection and Basic checks"
   ]
  },
  {
   "cell_type": "code",
   "execution_count": 3,
   "id": "6cff03c0-e2b5-4980-ad9a-f26d5bf32a16",
   "metadata": {},
   "outputs": [
    {
     "data": {
      "text/plain": [
       "(1460, 81)"
      ]
     },
     "execution_count": 3,
     "metadata": {},
     "output_type": "execute_result"
    }
   ],
   "source": [
    "# Read input\n",
    "df = pd.read_csv(\"train.csv\")\n",
    "df.shape"
   ]
  },
  {
   "cell_type": "code",
   "execution_count": 4,
   "id": "cf70a955-29ed-4e6a-8730-ba241b5e81bf",
   "metadata": {},
   "outputs": [
    {
     "name": "stdout",
     "output_type": "stream",
     "text": [
      "<class 'pandas.core.frame.DataFrame'>\n",
      "RangeIndex: 1460 entries, 0 to 1459\n",
      "Data columns (total 81 columns):\n",
      " #   Column         Non-Null Count  Dtype  \n",
      "---  ------         --------------  -----  \n",
      " 0   Id             1460 non-null   int64  \n",
      " 1   MSSubClass     1460 non-null   int64  \n",
      " 2   MSZoning       1460 non-null   object \n",
      " 3   LotFrontage    1201 non-null   float64\n",
      " 4   LotArea        1460 non-null   int64  \n",
      " 5   Street         1460 non-null   object \n",
      " 6   Alley          91 non-null     object \n",
      " 7   LotShape       1460 non-null   object \n",
      " 8   LandContour    1460 non-null   object \n",
      " 9   Utilities      1460 non-null   object \n",
      " 10  LotConfig      1460 non-null   object \n",
      " 11  LandSlope      1460 non-null   object \n",
      " 12  Neighborhood   1460 non-null   object \n",
      " 13  Condition1     1460 non-null   object \n",
      " 14  Condition2     1460 non-null   object \n",
      " 15  BldgType       1460 non-null   object \n",
      " 16  HouseStyle     1460 non-null   object \n",
      " 17  OverallQual    1460 non-null   int64  \n",
      " 18  OverallCond    1460 non-null   int64  \n",
      " 19  YearBuilt      1460 non-null   int64  \n",
      " 20  YearRemodAdd   1460 non-null   int64  \n",
      " 21  RoofStyle      1460 non-null   object \n",
      " 22  RoofMatl       1460 non-null   object \n",
      " 23  Exterior1st    1460 non-null   object \n",
      " 24  Exterior2nd    1460 non-null   object \n",
      " 25  MasVnrType     588 non-null    object \n",
      " 26  MasVnrArea     1452 non-null   float64\n",
      " 27  ExterQual      1460 non-null   object \n",
      " 28  ExterCond      1460 non-null   object \n",
      " 29  Foundation     1460 non-null   object \n",
      " 30  BsmtQual       1423 non-null   object \n",
      " 31  BsmtCond       1423 non-null   object \n",
      " 32  BsmtExposure   1422 non-null   object \n",
      " 33  BsmtFinType1   1423 non-null   object \n",
      " 34  BsmtFinSF1     1460 non-null   int64  \n",
      " 35  BsmtFinType2   1422 non-null   object \n",
      " 36  BsmtFinSF2     1460 non-null   int64  \n",
      " 37  BsmtUnfSF      1460 non-null   int64  \n",
      " 38  TotalBsmtSF    1460 non-null   int64  \n",
      " 39  Heating        1460 non-null   object \n",
      " 40  HeatingQC      1460 non-null   object \n",
      " 41  CentralAir     1460 non-null   object \n",
      " 42  Electrical     1459 non-null   object \n",
      " 43  1stFlrSF       1460 non-null   int64  \n",
      " 44  2ndFlrSF       1460 non-null   int64  \n",
      " 45  LowQualFinSF   1460 non-null   int64  \n",
      " 46  GrLivArea      1460 non-null   int64  \n",
      " 47  BsmtFullBath   1460 non-null   int64  \n",
      " 48  BsmtHalfBath   1460 non-null   int64  \n",
      " 49  FullBath       1460 non-null   int64  \n",
      " 50  HalfBath       1460 non-null   int64  \n",
      " 51  BedroomAbvGr   1460 non-null   int64  \n",
      " 52  KitchenAbvGr   1460 non-null   int64  \n",
      " 53  KitchenQual    1460 non-null   object \n",
      " 54  TotRmsAbvGrd   1460 non-null   int64  \n",
      " 55  Functional     1460 non-null   object \n",
      " 56  Fireplaces     1460 non-null   int64  \n",
      " 57  FireplaceQu    770 non-null    object \n",
      " 58  GarageType     1379 non-null   object \n",
      " 59  GarageYrBlt    1379 non-null   float64\n",
      " 60  GarageFinish   1379 non-null   object \n",
      " 61  GarageCars     1460 non-null   int64  \n",
      " 62  GarageArea     1460 non-null   int64  \n",
      " 63  GarageQual     1379 non-null   object \n",
      " 64  GarageCond     1379 non-null   object \n",
      " 65  PavedDrive     1460 non-null   object \n",
      " 66  WoodDeckSF     1460 non-null   int64  \n",
      " 67  OpenPorchSF    1460 non-null   int64  \n",
      " 68  EnclosedPorch  1460 non-null   int64  \n",
      " 69  3SsnPorch      1460 non-null   int64  \n",
      " 70  ScreenPorch    1460 non-null   int64  \n",
      " 71  PoolArea       1460 non-null   int64  \n",
      " 72  PoolQC         7 non-null      object \n",
      " 73  Fence          281 non-null    object \n",
      " 74  MiscFeature    54 non-null     object \n",
      " 75  MiscVal        1460 non-null   int64  \n",
      " 76  MoSold         1460 non-null   int64  \n",
      " 77  YrSold         1460 non-null   int64  \n",
      " 78  SaleType       1460 non-null   object \n",
      " 79  SaleCondition  1460 non-null   object \n",
      " 80  SalePrice      1460 non-null   int64  \n",
      "dtypes: float64(3), int64(35), object(43)\n",
      "memory usage: 924.0+ KB\n"
     ]
    }
   ],
   "source": [
    "df.info()"
   ]
  },
  {
   "cell_type": "code",
   "execution_count": 5,
   "id": "32f753e3-653c-4b5f-89dc-71bc7be5fb97",
   "metadata": {},
   "outputs": [
    {
     "data": {
      "text/html": [
       "<div>\n",
       "<style scoped>\n",
       "    .dataframe tbody tr th:only-of-type {\n",
       "        vertical-align: middle;\n",
       "    }\n",
       "\n",
       "    .dataframe tbody tr th {\n",
       "        vertical-align: top;\n",
       "    }\n",
       "\n",
       "    .dataframe thead th {\n",
       "        text-align: right;\n",
       "    }\n",
       "</style>\n",
       "<table border=\"1\" class=\"dataframe\">\n",
       "  <thead>\n",
       "    <tr style=\"text-align: right;\">\n",
       "      <th></th>\n",
       "      <th>Id</th>\n",
       "      <th>MSSubClass</th>\n",
       "      <th>MSZoning</th>\n",
       "      <th>LotFrontage</th>\n",
       "      <th>LotArea</th>\n",
       "      <th>Street</th>\n",
       "      <th>Alley</th>\n",
       "      <th>LotShape</th>\n",
       "      <th>LandContour</th>\n",
       "      <th>Utilities</th>\n",
       "      <th>...</th>\n",
       "      <th>PoolArea</th>\n",
       "      <th>PoolQC</th>\n",
       "      <th>Fence</th>\n",
       "      <th>MiscFeature</th>\n",
       "      <th>MiscVal</th>\n",
       "      <th>MoSold</th>\n",
       "      <th>YrSold</th>\n",
       "      <th>SaleType</th>\n",
       "      <th>SaleCondition</th>\n",
       "      <th>SalePrice</th>\n",
       "    </tr>\n",
       "  </thead>\n",
       "  <tbody>\n",
       "    <tr>\n",
       "      <th>0</th>\n",
       "      <td>1</td>\n",
       "      <td>60</td>\n",
       "      <td>RL</td>\n",
       "      <td>65.0</td>\n",
       "      <td>8450</td>\n",
       "      <td>Pave</td>\n",
       "      <td>NaN</td>\n",
       "      <td>Reg</td>\n",
       "      <td>Lvl</td>\n",
       "      <td>AllPub</td>\n",
       "      <td>...</td>\n",
       "      <td>0</td>\n",
       "      <td>NaN</td>\n",
       "      <td>NaN</td>\n",
       "      <td>NaN</td>\n",
       "      <td>0</td>\n",
       "      <td>2</td>\n",
       "      <td>2008</td>\n",
       "      <td>WD</td>\n",
       "      <td>Normal</td>\n",
       "      <td>208500</td>\n",
       "    </tr>\n",
       "    <tr>\n",
       "      <th>1</th>\n",
       "      <td>2</td>\n",
       "      <td>20</td>\n",
       "      <td>RL</td>\n",
       "      <td>80.0</td>\n",
       "      <td>9600</td>\n",
       "      <td>Pave</td>\n",
       "      <td>NaN</td>\n",
       "      <td>Reg</td>\n",
       "      <td>Lvl</td>\n",
       "      <td>AllPub</td>\n",
       "      <td>...</td>\n",
       "      <td>0</td>\n",
       "      <td>NaN</td>\n",
       "      <td>NaN</td>\n",
       "      <td>NaN</td>\n",
       "      <td>0</td>\n",
       "      <td>5</td>\n",
       "      <td>2007</td>\n",
       "      <td>WD</td>\n",
       "      <td>Normal</td>\n",
       "      <td>181500</td>\n",
       "    </tr>\n",
       "    <tr>\n",
       "      <th>2</th>\n",
       "      <td>3</td>\n",
       "      <td>60</td>\n",
       "      <td>RL</td>\n",
       "      <td>68.0</td>\n",
       "      <td>11250</td>\n",
       "      <td>Pave</td>\n",
       "      <td>NaN</td>\n",
       "      <td>IR1</td>\n",
       "      <td>Lvl</td>\n",
       "      <td>AllPub</td>\n",
       "      <td>...</td>\n",
       "      <td>0</td>\n",
       "      <td>NaN</td>\n",
       "      <td>NaN</td>\n",
       "      <td>NaN</td>\n",
       "      <td>0</td>\n",
       "      <td>9</td>\n",
       "      <td>2008</td>\n",
       "      <td>WD</td>\n",
       "      <td>Normal</td>\n",
       "      <td>223500</td>\n",
       "    </tr>\n",
       "    <tr>\n",
       "      <th>3</th>\n",
       "      <td>4</td>\n",
       "      <td>70</td>\n",
       "      <td>RL</td>\n",
       "      <td>60.0</td>\n",
       "      <td>9550</td>\n",
       "      <td>Pave</td>\n",
       "      <td>NaN</td>\n",
       "      <td>IR1</td>\n",
       "      <td>Lvl</td>\n",
       "      <td>AllPub</td>\n",
       "      <td>...</td>\n",
       "      <td>0</td>\n",
       "      <td>NaN</td>\n",
       "      <td>NaN</td>\n",
       "      <td>NaN</td>\n",
       "      <td>0</td>\n",
       "      <td>2</td>\n",
       "      <td>2006</td>\n",
       "      <td>WD</td>\n",
       "      <td>Abnorml</td>\n",
       "      <td>140000</td>\n",
       "    </tr>\n",
       "    <tr>\n",
       "      <th>4</th>\n",
       "      <td>5</td>\n",
       "      <td>60</td>\n",
       "      <td>RL</td>\n",
       "      <td>84.0</td>\n",
       "      <td>14260</td>\n",
       "      <td>Pave</td>\n",
       "      <td>NaN</td>\n",
       "      <td>IR1</td>\n",
       "      <td>Lvl</td>\n",
       "      <td>AllPub</td>\n",
       "      <td>...</td>\n",
       "      <td>0</td>\n",
       "      <td>NaN</td>\n",
       "      <td>NaN</td>\n",
       "      <td>NaN</td>\n",
       "      <td>0</td>\n",
       "      <td>12</td>\n",
       "      <td>2008</td>\n",
       "      <td>WD</td>\n",
       "      <td>Normal</td>\n",
       "      <td>250000</td>\n",
       "    </tr>\n",
       "  </tbody>\n",
       "</table>\n",
       "<p>5 rows × 81 columns</p>\n",
       "</div>"
      ],
      "text/plain": [
       "   Id  MSSubClass MSZoning  LotFrontage  LotArea Street Alley LotShape  \\\n",
       "0   1          60       RL         65.0     8450   Pave   NaN      Reg   \n",
       "1   2          20       RL         80.0     9600   Pave   NaN      Reg   \n",
       "2   3          60       RL         68.0    11250   Pave   NaN      IR1   \n",
       "3   4          70       RL         60.0     9550   Pave   NaN      IR1   \n",
       "4   5          60       RL         84.0    14260   Pave   NaN      IR1   \n",
       "\n",
       "  LandContour Utilities  ... PoolArea PoolQC Fence MiscFeature MiscVal MoSold  \\\n",
       "0         Lvl    AllPub  ...        0    NaN   NaN         NaN       0      2   \n",
       "1         Lvl    AllPub  ...        0    NaN   NaN         NaN       0      5   \n",
       "2         Lvl    AllPub  ...        0    NaN   NaN         NaN       0      9   \n",
       "3         Lvl    AllPub  ...        0    NaN   NaN         NaN       0      2   \n",
       "4         Lvl    AllPub  ...        0    NaN   NaN         NaN       0     12   \n",
       "\n",
       "  YrSold  SaleType  SaleCondition  SalePrice  \n",
       "0   2008        WD         Normal     208500  \n",
       "1   2007        WD         Normal     181500  \n",
       "2   2008        WD         Normal     223500  \n",
       "3   2006        WD        Abnorml     140000  \n",
       "4   2008        WD         Normal     250000  \n",
       "\n",
       "[5 rows x 81 columns]"
      ]
     },
     "execution_count": 5,
     "metadata": {},
     "output_type": "execute_result"
    }
   ],
   "source": [
    "df.head()"
   ]
  },
  {
   "cell_type": "markdown",
   "id": "43899017-c261-449e-bd05-23a5c9ca3599",
   "metadata": {},
   "source": [
    "### Data Cleaning"
   ]
  },
  {
   "cell_type": "code",
   "execution_count": 7,
   "id": "dc4ce48b-52d6-4a81-b658-f8e237992e8a",
   "metadata": {},
   "outputs": [
    {
     "name": "stdout",
     "output_type": "stream",
     "text": [
      "(1460, 36) numeric\n",
      "(1460, 43) categorical\n"
     ]
    },
    {
     "data": {
      "text/plain": [
       "PoolQC          1453\n",
       "MiscFeature     1406\n",
       "Alley           1369\n",
       "Fence           1179\n",
       "MasVnrType       872\n",
       "FireplaceQu      690\n",
       "LotFrontage      259\n",
       "GarageCond        81\n",
       "GarageType        81\n",
       "GarageYrBlt       81\n",
       "GarageQual        81\n",
       "GarageFinish      81\n",
       "BsmtFinType2      38\n",
       "BsmtExposure      38\n",
       "BsmtFinType1      37\n",
       "BsmtCond          37\n",
       "BsmtQual          37\n",
       "MasVnrArea         8\n",
       "Electrical         1\n",
       "KitchenAbvGr       0\n",
       "dtype: int64"
      ]
     },
     "execution_count": 7,
     "metadata": {},
     "output_type": "execute_result"
    }
   ],
   "source": [
    "# Split features and target\n",
    "y = df[\"SalePrice\"]\n",
    "x = df.drop(columns=[\"SalePrice\", \"Id\"], errors=\"ignore\")\n",
    "\n",
    "# find number of numeric and categorical columns\n",
    "print(x.select_dtypes(include=\"number\").shape, \"numeric\")\n",
    "print(x.select_dtypes(exclude=\"number\").shape, \"categorical\")\n",
    "\n",
    "# find nulls\n",
    "x.isna().sum().sort_values(ascending=False).head(20)"
   ]
  },
  {
   "cell_type": "code",
   "execution_count": 8,
   "id": "ed2afd71-22ea-4257-a852-cbf106832b0d",
   "metadata": {},
   "outputs": [],
   "source": [
    "# Drop columns with lots of null values\n",
    "x.drop(['PoolQC', 'Alley', 'Fence', 'MiscFeature'], axis=1, inplace=True)"
   ]
  },
  {
   "cell_type": "code",
   "execution_count": 9,
   "id": "e4f28234-e67c-4f7c-8cb3-b7f4d18aa685",
   "metadata": {},
   "outputs": [],
   "source": [
    "# Filling numerical nulls with median or 0\n",
    "x['LotFrontage'] = x['LotFrontage'].fillna(x['LotFrontage'].median())\n",
    "x['MasVnrArea'] = x['MasVnrArea'].fillna(0)\n",
    "x['GarageYrBlt'] = x['GarageYrBlt'].fillna(0)"
   ]
  },
  {
   "cell_type": "code",
   "execution_count": 10,
   "id": "2c24875f-9766-4cdf-a94e-8ff11cb11764",
   "metadata": {},
   "outputs": [],
   "source": [
    "# Filling categorical nulls with mode\n",
    "x['Electrical'] = x['Electrical'].fillna(df['Electrical'].mode()[0])"
   ]
  },
  {
   "cell_type": "code",
   "execution_count": 11,
   "id": "5852e843-bbc4-4337-a0ce-8a08f8049f69",
   "metadata": {},
   "outputs": [],
   "source": [
    "# Filling meaningfull nulls with NA\n",
    "for i in ['BsmtQual','BsmtCond','BsmtExposure','BsmtFinType1','BsmtFinType2','MasVnrType','FireplaceQu','GarageType','GarageFinish','GarageQual','GarageCond']:\n",
    "    x[i] = x[i].fillna('NA')"
   ]
  },
  {
   "cell_type": "code",
   "execution_count": 12,
   "id": "e0a9a87b-56be-4829-94d2-beb7801fda1e",
   "metadata": {},
   "outputs": [
    {
     "data": {
      "text/plain": [
       "MSSubClass       0\n",
       "MSZoning         0\n",
       "LotFrontage      0\n",
       "LotArea          0\n",
       "Street           0\n",
       "                ..\n",
       "MiscVal          0\n",
       "MoSold           0\n",
       "YrSold           0\n",
       "SaleType         0\n",
       "SaleCondition    0\n",
       "Length: 75, dtype: int64"
      ]
     },
     "execution_count": 12,
     "metadata": {},
     "output_type": "execute_result"
    }
   ],
   "source": [
    "# ensuring non-null values are all removed\n",
    "x.isna().sum()"
   ]
  },
  {
   "cell_type": "code",
   "execution_count": 13,
   "id": "bd006ffe-649f-4f2d-b95c-e51cded2985b",
   "metadata": {},
   "outputs": [
    {
     "data": {
      "text/plain": [
       "0"
      ]
     },
     "execution_count": 13,
     "metadata": {},
     "output_type": "execute_result"
    }
   ],
   "source": [
    "# Checking for duplicates\n",
    "x.duplicated().sum()"
   ]
  },
  {
   "cell_type": "markdown",
   "id": "a7de3593-9af0-41f7-959a-b006e1763d84",
   "metadata": {},
   "source": [
    "### Train/Test Split"
   ]
  },
  {
   "cell_type": "code",
   "execution_count": 15,
   "id": "f4d59a31-b502-4820-84a6-9b352a16d2f2",
   "metadata": {},
   "outputs": [],
   "source": [
    "x_train, x_test, y_train, y_test = train_test_split(x, y, test_size=0.2, random_state=42)"
   ]
  },
  {
   "cell_type": "markdown",
   "id": "088b1856-520e-4cdd-8c3f-e6419325b236",
   "metadata": {},
   "source": [
    "### Preprocessing\n",
    "##### Encoding and Scaling\n",
    "##### Categorical - OneHotEncoder and Numerical - StandardScaler"
   ]
  },
  {
   "cell_type": "code",
   "execution_count": 17,
   "id": "354e1163-0530-4394-b8f4-8e5c5bf1af04",
   "metadata": {},
   "outputs": [],
   "source": [
    "# --- Separate num and cat ---\n",
    "num_cols = x_train.select_dtypes(include=[\"int64\",\"float64\"]).columns.tolist()\n",
    "cat_cols = x_train.select_dtypes(exclude=[\"int64\",\"float64\"]).columns.tolist()\n",
    "\n",
    "# MSSubClass looks numeric but is categorical\n",
    "if \"MSSubClass\" in num_cols:\n",
    "    num_cols.remove(\"MSSubClass\")\n",
    "    cat_cols.append(\"MSSubClass\")"
   ]
  },
  {
   "cell_type": "code",
   "execution_count": 18,
   "id": "ac9ea270-89b4-497c-8d16-6d1806fa67a1",
   "metadata": {},
   "outputs": [],
   "source": [
    "# --- Scale numeric ---\n",
    "scaler = StandardScaler()\n",
    "x_train_num = scaler.fit_transform(x_train[num_cols])\n",
    "x_test_num = scaler.transform(x_test[num_cols])\n",
    "\n",
    "# --- Encode categorical ---\n",
    "ohe = OneHotEncoder(handle_unknown=\"ignore\", sparse_output=False)\n",
    "x_train_cat = ohe.fit_transform(x_train[cat_cols])\n",
    "x_test_cat = ohe.transform(x_test[cat_cols])"
   ]
  },
  {
   "cell_type": "code",
   "execution_count": 19,
   "id": "1f7f3d2d-97c0-43fb-9234-77a8c801da20",
   "metadata": {},
   "outputs": [
    {
     "name": "stdout",
     "output_type": "stream",
     "text": [
      "Final Train Shape: (1168, 297)\n",
      "Final Test Shape: (292, 297)\n"
     ]
    }
   ],
   "source": [
    "# --- Combine back ---\n",
    "x_train_final = np.hstack([x_train_num, x_train_cat])\n",
    "x_test_final = np.hstack([x_test_num, x_test_cat])\n",
    "\n",
    "print(\"Final Train Shape:\", x_train_final.shape)\n",
    "print(\"Final Test Shape:\", x_test_final.shape)"
   ]
  },
  {
   "cell_type": "markdown",
   "id": "2a2f54e2-7ad7-442d-adea-65faacb77381",
   "metadata": {},
   "source": [
    "## MODELS"
   ]
  },
  {
   "cell_type": "markdown",
   "id": "4723119c-8c91-44ec-a45e-c34df675bf54",
   "metadata": {},
   "source": [
    "### Linear Regression"
   ]
  },
  {
   "cell_type": "code",
   "execution_count": 22,
   "id": "50db6d42-7582-4c2e-a4c4-21055fbbac2d",
   "metadata": {},
   "outputs": [
    {
     "name": "stdout",
     "output_type": "stream",
     "text": [
      "R2 Score: -9.744077427752421e+17\n",
      "MSE: 7.47402524589499e+27\n"
     ]
    }
   ],
   "source": [
    "lr = LinearRegression()\n",
    "lr.fit(x_train_final, y_train)\n",
    "\n",
    "y_pred = lr.predict(x_test_final)\n",
    "\n",
    "print(\"R2 Score:\", r2_score(y_test, y_pred))\n",
    "print(\"MSE:\", mean_squared_error(y_test, y_pred))"
   ]
  },
  {
   "cell_type": "markdown",
   "id": "87eef8fe-5c93-4a68-8ae4-12c370905a7e",
   "metadata": {},
   "source": [
    "Observation: R2 score does not look right. Features are exploding? Checking with numerical and categorical columns separately."
   ]
  },
  {
   "cell_type": "code",
   "execution_count": 24,
   "id": "a25600cc-f70e-4a28-8dda-2aff3008cbec",
   "metadata": {},
   "outputs": [
    {
     "name": "stdout",
     "output_type": "stream",
     "text": [
      "Numerical Baseline R2: 0.8263097719645488\n"
     ]
    }
   ],
   "source": [
    "lr = LinearRegression()\n",
    "lr.fit(x_train_num, y_train)\n",
    "print(\"Numerical Baseline R2:\", r2_score(y_test, lr.predict(x_test_num)))"
   ]
  },
  {
   "cell_type": "code",
   "execution_count": 25,
   "id": "ff2ccd1b-673c-452f-8a5d-dda89b971af2",
   "metadata": {},
   "outputs": [
    {
     "name": "stdout",
     "output_type": "stream",
     "text": [
      "Categorical Baseline R2: -3.182076774281454e+22\n"
     ]
    }
   ],
   "source": [
    "lr = LinearRegression()\n",
    "lr.fit(x_train_cat, y_train)\n",
    "print(\"Categorical Baseline R2:\", r2_score(y_test, lr.predict(x_test_cat)))"
   ]
  },
  {
   "cell_type": "markdown",
   "id": "e3a1fe77-cba3-4074-8bd1-7dee51ff2999",
   "metadata": {},
   "source": [
    "Observation: Numerical columns have a good baseline. Maybe OHE is leading to multicollinearity.\n",
    "\n",
    "Next step: Regularization - Lasso and Ridge."
   ]
  },
  {
   "cell_type": "markdown",
   "id": "3d4fa8ad-683b-4f43-b86a-a531ab069654",
   "metadata": {},
   "source": [
    "### Lasso and Ridge Regularizations"
   ]
  },
  {
   "cell_type": "code",
   "execution_count": 28,
   "id": "b7d26c53-6041-4b92-b19b-6427a364c70f",
   "metadata": {},
   "outputs": [
    {
     "name": "stdout",
     "output_type": "stream",
     "text": [
      "Ridge R2: 0.8781497350094405\n"
     ]
    }
   ],
   "source": [
    "ridge = Ridge(alpha=10)\n",
    "ridge.fit(x_train_final, y_train)\n",
    "print(\"Ridge R2:\", r2_score(y_test, ridge.predict(x_test_final)))"
   ]
  },
  {
   "cell_type": "code",
   "execution_count": 29,
   "id": "a72993c2-56d9-429d-8c83-51127a2d1c9c",
   "metadata": {},
   "outputs": [
    {
     "name": "stdout",
     "output_type": "stream",
     "text": [
      "Lasso R2: 0.8954026436199282\n"
     ]
    },
    {
     "name": "stderr",
     "output_type": "stream",
     "text": [
      "C:\\Users\\poovi\\anaconda3\\Lib\\site-packages\\sklearn\\linear_model\\_coordinate_descent.py:697: ConvergenceWarning: Objective did not converge. You might want to increase the number of iterations, check the scale of the features or consider increasing regularisation. Duality gap: 4.665e+10, tolerance: 6.967e+08\n",
      "  model = cd_fast.enet_coordinate_descent(\n"
     ]
    }
   ],
   "source": [
    "lasso = Lasso(alpha=0.01, max_iter=50000)\n",
    "lasso.fit(x_train_final, y_train)\n",
    "print(\"Lasso R2:\", r2_score(y_test, lasso.predict(x_test_final)))"
   ]
  },
  {
   "cell_type": "markdown",
   "id": "125012ba-3c67-474b-9ace-65f8f9412308",
   "metadata": {},
   "source": [
    "Observation: Regularization rectified the multicollinearity issue. R2 is significantly better.\n",
    "- Numerical Baseline R2: 0.8263097719645488\n",
    "- Ridge R2: 0.8781497350094405\n",
    "- Lasso R2: 0.8954026436199282\n",
    "\n",
    "Let's check a Tree model."
   ]
  },
  {
   "cell_type": "markdown",
   "id": "09d6a10f-9324-4c85-a867-63cff30ae137",
   "metadata": {},
   "source": [
    "### RandomForest"
   ]
  },
  {
   "cell_type": "code",
   "execution_count": 32,
   "id": "932653d1-3fe4-4da0-abd8-cf7cf45d2c61",
   "metadata": {},
   "outputs": [
    {
     "name": "stdout",
     "output_type": "stream",
     "text": [
      "Random Forest R2: 0.8923986049801698\n",
      "Random Forest MSE: 825337800.150498\n"
     ]
    }
   ],
   "source": [
    "rf = RandomForestRegressor(\n",
    "    n_estimators=200,   # number of trees\n",
    "    max_depth=None,     # let trees expand fully\n",
    "    random_state=42,\n",
    "    n_jobs=-1           # use all CPU cores\n",
    ")\n",
    "\n",
    "rf.fit(x_train_final, y_train)\n",
    "y_pred_rf = rf.predict(x_test_final)\n",
    "\n",
    "print(\"Random Forest R2:\", r2_score(y_test, y_pred_rf))\n",
    "print(\"Random Forest MSE:\", mean_squared_error(y_test, y_pred_rf))"
   ]
  },
  {
   "cell_type": "code",
   "execution_count": 33,
   "id": "50b80788-0474-48e4-8d96-10a6b3ca868d",
   "metadata": {},
   "outputs": [
    {
     "data": {
      "image/png": "[encoded data removed]",
      "text/plain": [
       "<Figure size 640x480 with 1 Axes>"
      ]
     },
     "metadata": {},
     "output_type": "display_data"
    }
   ],
   "source": [
    "# Visualization\n",
    "plt.scatter(y_test, y_pred)\n",
    "plt.xlabel(\"Actual SalePrice\")\n",
    "plt.ylabel(\"Predicted SalePrice\")\n",
    "plt.title(\"Actual vs Predicted\")\n",
    "plt.show()"
   ]
  },
  {
   "cell_type": "markdown",
   "id": "33bf4c72-5198-45f2-ba43-0d5be098a4c8",
   "metadata": {},
   "source": [
    "Observation: Random Forest is as good as Lasso"
   ]
  },
  {
   "cell_type": "markdown",
   "id": "ac673a3d-6e23-4bf8-afb0-a30dbfd3a74f",
   "metadata": {},
   "source": [
    "### GridSearchCV for hyperparameter tuning"
   ]
  },
  {
   "cell_type": "code",
   "execution_count": 36,
   "id": "0312cdc2-4516-4405-8636-2ab064619148",
   "metadata": {},
   "outputs": [],
   "source": [
    "param_grid = {\n",
    "    \"Ridge\": {\n",
    "        \"model\": Ridge(),\n",
    "        \"params\": {\n",
    "            \"alpha\": [0.01, 0.1, 1, 10, 50, 100]\n",
    "        }\n",
    "    },\n",
    "    \"Lasso\": {\n",
    "        \"model\": Lasso(max_iter=5000),\n",
    "        \"params\": {\n",
    "            \"alpha\": [0.001, 0.01, 0.1, 1, 10]\n",
    "        }\n",
    "    },\n",
    "    \"RandomForest\": {\n",
    "        \"model\": RandomForestRegressor(random_state=42, n_jobs=-1),\n",
    "        \"params\": {\n",
    "            \"n_estimators\": [100, 200],\n",
    "            \"max_depth\": [None, 10, 20]\n",
    "        }\n",
    "    }\n",
    "}"
   ]
  },
  {
   "cell_type": "code",
   "execution_count": 37,
   "id": "61c9f726-c713-4d6d-8559-595342d1b5d3",
   "metadata": {},
   "outputs": [
    {
     "name": "stdout",
     "output_type": "stream",
     "text": [
      "\n",
      "Tuning Ridge...\n",
      "\n",
      "Tuning Lasso...\n",
      "\n",
      "Tuning RandomForest...\n"
     ]
    }
   ],
   "source": [
    "results = []\n",
    "\n",
    "for name, mp in param_grid.items():\n",
    "    print(f\"\\nTuning {name}...\")\n",
    "    grid = GridSearchCV(\n",
    "        estimator=mp[\"model\"],\n",
    "        param_grid=mp[\"params\"],\n",
    "        cv=5,\n",
    "        scoring=\"r2\",\n",
    "        n_jobs=-1\n",
    "    )\n",
    "    grid.fit(x_train_final, y_train)\n",
    "    \n",
    "    best_model = grid.best_estimator_\n",
    "    y_pred = best_model.predict(x_test_final)\n",
    "    \n",
    "    results.append({\n",
    "        \"Model\": name,\n",
    "        \"Best Params\": grid.best_params_,\n",
    "        \"CV Best R2\": grid.best_score_,\n",
    "        \"Test R2\": r2_score(y_test, y_pred),\n",
    "        \"Test MSE\": mean_squared_error(y_test, y_pred)\n",
    "    })"
   ]
  },
  {
   "cell_type": "code",
   "execution_count": 38,
   "id": "569a29b7-567e-44a1-ab79-d8faa2742d19",
   "metadata": {},
   "outputs": [
    {
     "name": "stdout",
     "output_type": "stream",
     "text": [
      "          Model                               Best Params  CV Best R2  \\\n",
      "0         Ridge                             {'alpha': 10}    0.816777   \n",
      "1         Lasso                             {'alpha': 10}    0.780983   \n",
      "2  RandomForest  {'max_depth': None, 'n_estimators': 100}    0.841760   \n",
      "\n",
      "    Test R2      Test MSE  \n",
      "0  0.878150  9.346313e+08  \n",
      "1  0.899246  7.728146e+08  \n",
      "2  0.891965  8.286626e+08  \n"
     ]
    }
   ],
   "source": [
    "df_results = pd.DataFrame(results)\n",
    "print(df_results)"
   ]
  },
  {
   "cell_type": "markdown",
   "id": "4cefd513-0357-4a5a-89c1-a803a5a835be",
   "metadata": {},
   "source": [
    "Lasso is still the best model.\n",
    "\n",
    "The best alpha for both Ridge and Lasso is 10.\n",
    "\n",
    "The best n_estimators for RandomForest is 100.\n",
    "\n",
    "The R2 values did not change significantly."
   ]
  },
  {
   "cell_type": "code",
   "execution_count": null,
   "id": "853a9004-80bc-48e1-a2aa-fa8316b157e9",
   "metadata": {},
   "outputs": [],
   "source": []
  }
 ],
 "metadata": {
  "kernelspec": {
   "display_name": "Python [conda env:base] *",
   "language": "python",
   "name": "conda-base-py"
  },
  "language_info": {
   "codemirror_mode": {
    "name": "ipython",
    "version": 3
   },
   "file_extension": ".py",
   "mimetype": "text/x-python",
   "name": "python",
   "nbconvert_exporter": "python",
   "pygments_lexer": "ipython3",
   "version": "3.12.7"
  }
 },
 "nbformat": 4,
 "nbformat_minor": 5
}
